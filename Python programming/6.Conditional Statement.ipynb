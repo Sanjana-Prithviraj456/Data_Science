{
 "cells": [
  {
   "cell_type": "markdown",
   "id": "b2cfdd08",
   "metadata": {},
   "source": [
    "# Conditional Statement\n"
   ]
  },
  {
   "cell_type": "code",
   "execution_count": 1,
   "id": "30b06bdb",
   "metadata": {},
   "outputs": [
    {
     "name": "stdout",
     "output_type": "stream",
     "text": [
      "Number is lesser than 200\n"
     ]
    }
   ],
   "source": [
    "# If else logic\n",
    "num = 100\n",
    "if num <=200:\n",
    "    print(\"Number is lesser than 200\")\n",
    "\n",
    "\n",
    "else:\n",
    "    print(\"Number is greater than 200\")"
   ]
  },
  {
   "cell_type": "code",
   "execution_count": 4,
   "id": "49c4636e",
   "metadata": {},
   "outputs": [
    {
     "name": "stdout",
     "output_type": "stream",
     "text": [
      "Student is Bright\n"
     ]
    }
   ],
   "source": [
    "marks =float(input('Enter the marks'))\n",
    "\n",
    "if marks >=60:\n",
    "    print('Student is Bright')\n",
    "else:\n",
    "        print('Student is weak')\n",
    "\n",
    "        '''\n",
    "        the statement in if  statement gets execute if the given condition is true\n",
    "        or else it executes statement in else condition\n",
    "        '''"
   ]
  },
  {
   "cell_type": "code",
   "execution_count": 5,
   "id": "4baacafd",
   "metadata": {},
   "outputs": [
    {
     "name": "stdout",
     "output_type": "stream",
     "text": [
      "Weak Student\n"
     ]
    }
   ],
   "source": [
    "# El-if statement\n",
    "\n",
    "marks = float(input('Enter the marks'))\n",
    "if marks >= 80:\n",
    "    print('Bright Student')\n",
    "\n",
    "elif marks> 60 and marks < 79:\n",
    "    print('Good Student')\n",
    "\n",
    "elif marks > 40 and marks < 59:\n",
    "    print('Average Student')\n",
    "# E\n",
    "else:\n",
    "    print('Weak Student')"
   ]
  },
  {
   "cell_type": "code",
   "execution_count": 7,
   "id": "fb988220",
   "metadata": {},
   "outputs": [
    {
     "name": "stdout",
     "output_type": "stream",
     "text": [
      "Entered string is palindrom\n"
     ]
    }
   ],
   "source": [
    "string = input(\"Enter the string\")\n",
    "string1 = string[::-1]\n",
    "\n",
    "if string == string1:\n",
    "       print(\"Entered string is palindrom\")\n",
    "\n",
    "else: \n",
    "    print(\"Entered string is not a palindrom\")"
   ]
  },
  {
   "cell_type": "code",
   "execution_count": 8,
   "id": "4cc15066",
   "metadata": {},
   "outputs": [
    {
     "name": "stdout",
     "output_type": "stream",
     "text": [
      "Entered string is palindrom\n"
     ]
    }
   ],
   "source": [
    "string = input(\"Enter the string\")\n",
    "string1 = string[::-1]\n",
    "\n",
    "if string.lower() == string1.lower():\n",
    "       print(\"Entered string is palindrom\")\n",
    "\n",
    "else: \n",
    "    print(\"Entered string is not a palindrom\")"
   ]
  },
  {
   "cell_type": "code",
   "execution_count": 9,
   "id": "4adfe0af",
   "metadata": {},
   "outputs": [
    {
     "name": "stdout",
     "output_type": "stream",
     "text": [
      "Even Number\n"
     ]
    }
   ],
   "source": [
    "# Check even and odd number\n",
    "\n",
    "num = float(input(\"Enter the number\"))\n",
    "if (num%2==0):\n",
    "    print(\"Even Number\")\n",
    "\n",
    "else:\n",
    "    print(\"Odd Number\")   "
   ]
  },
  {
   "cell_type": "code",
   "execution_count": null,
   "id": "7bb9910e",
   "metadata": {},
   "outputs": [],
   "source": [
    "'''\n",
    "the statement in if  statement gets execute if the given condition is true\n",
    "        or else it executes statement in else condition\n",
    "If there are multiple conditions we add elif statement\n",
    "palindrome means when we read from both the direction the word should be same mom, dad, pop\n",
<<<<<<< HEAD
    "else condition is optional\n",
=======
>>>>>>> b4f0d25ba729aeefe1122413848798d28fc7e369
    "'''"
   ]
  }
 ],
 "metadata": {
  "kernelspec": {
   "display_name": "base",
   "language": "python",
   "name": "python3"
  },
  "language_info": {
   "codemirror_mode": {
    "name": "ipython",
    "version": 3
   },
   "file_extension": ".py",
   "mimetype": "text/x-python",
   "name": "python",
   "nbconvert_exporter": "python",
   "pygments_lexer": "ipython3",
   "version": "3.12.7"
  }
 },
 "nbformat": 4,
 "nbformat_minor": 5
}
