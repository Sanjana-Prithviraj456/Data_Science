{
 "cells": [
  {
   "cell_type": "markdown",
   "id": "04bf291c",
   "metadata": {},
   "source": [
    "# O.O.P.S\n",
    "\n"
   ]
  },
  {
   "cell_type": "code",
   "execution_count": null,
   "id": "3424847d",
   "metadata": {},
   "outputs": [],
   "source": [
    "'''\n",
    "An object cn have multiple class\n",
    "class is bundling of data and functionality together\n",
    "constructor is responsible  bundling of data and functionality \n",
    "Creating a new class creates a new type of object\n",
    "a function defined inside a classs is a method\n",
    "if variable is in the class is a attribute\n",
    "self keyword is to be wriiten before declaring a variable\n",
    "class contains multiple objects\n",
    "we can add multiple functions inside class\n",
    "'''"
   ]
  },
  {
   "cell_type": "code",
   "execution_count": 15,
   "id": "61592c7a",
   "metadata": {},
   "outputs": [
    {
     "name": "stdout",
     "output_type": "stream",
     "text": [
      "200\n",
      "10000\n",
      "None\n",
      "None\n"
     ]
    }
   ],
   "source": [
    "# Class Definition: ClassName\n",
    "class ClassName:\n",
    "\n",
    "    # Define Method: Constructor: Special Function\n",
    "    def __init__(self):\n",
    "\n",
    "# Variable : Attribute\n",
    "     self.num1 = 100\n",
    "     self.num2 = 100\n",
    "\n",
    "# Define Method: Sum()\n",
    "    def Sum(self):\n",
    "        print(self.num1 + self.num2)\n",
    "\n",
    " # Define Method: Mul()\n",
    "    def Mul(self):\n",
    "        print(self.num1*self.num2)\n",
    "\n",
    "\n",
    "# Create a object : A\n",
    "A = ClassName()\n",
    "\n",
    "# Calling a function: Sum() , Mul() using dot operator\n",
    "ans = A.Sum()\n",
    "ans1 = A.Mul()\n",
    "\n",
    "# PRINTIMNG Output\n",
    "print(ans)\n",
    "print(ans1)\n",
    "\n"
   ]
  },
  {
   "cell_type": "code",
   "execution_count": 17,
   "id": "0861f330",
   "metadata": {},
   "outputs": [
    {
     "name": "stdout",
     "output_type": "stream",
     "text": [
      "blue\n",
      "abc\n",
      "boow\n"
     ]
    }
   ],
   "source": [
    "class Dog:                                                   # \n",
    "    kind = 'Good boy'\n",
    "\n",
    "    def __init__(self):                                        # Constructor\n",
    "        self.eye = input(\"Enter the eye color: \")\n",
    "        self.breed = input(\"Enter the breed: \")           \n",
    "        self.sound = input(\"Enter the sound: \")\n",
    "\n",
    "    def sound():\n",
    "        print(self.sound)                                         # Functions\n",
    "\n",
    "a = Dog()                                                    # a is the object\n",
    "print(a.eye)\n",
    "print(a.breed)\n",
    "print(a.sound)"
   ]
  },
  {
   "cell_type": "code",
   "execution_count": 28,
   "id": "cd6d8179",
   "metadata": {},
   "outputs": [
    {
     "name": "stdout",
     "output_type": "stream",
     "text": [
      "sanjana\n",
      "20\n",
      "100\n",
      "sanjana\n",
      "100\n"
     ]
    }
   ],
   "source": [
    "'''\n",
    "Inheeritance is the process of deriving features from parent class to child clss\n",
    "doesn't contain the same feature of parent to child\n",
    "'''\n",
    "\n",
    "class Parent:\n",
    "    def __init__(self):\n",
    "        self.name = input(\"Enter a name: \")\n",
    "        self.age = input(\"Enter a age: \")\n",
    "        print(self.name)\n",
    "        print(self.age)\n",
    "\n",
    "class child(parent):\n",
    "    def __init__(self):\n",
    "        self.marks = input(\"Enter the marks: \")\n",
    "        print(self.marks)\n",
    "\n",
    "a = Parent()\n",
    "b = child()\n",
    "\n",
    "print(a.name)\n",
    "print(b.marks)\n"
   ]
  },
  {
   "cell_type": "code",
   "execution_count": 11,
   "id": "9e3e81e9",
   "metadata": {},
   "outputs": [
    {
     "name": "stdout",
     "output_type": "stream",
     "text": [
      "Hii\n",
      "petrol\n",
      "Bye\n"
     ]
    }
   ],
   "source": [
    "class car():\n",
    "    def __init__(self):\n",
    "        print(\"Hii\")\n",
    "\n",
    "    def engine(self):\n",
    "        self.engine = input(\"Enter the engine type\")\n",
    "        print(self.engine)\n",
    "\n",
    "# Child class\n",
    "class petrolcar(car):\n",
    "    def __init__(self):\n",
    "        print(\"Bye\")\n",
    "\n",
    "a = car()\n",
    "a.engine()\n",
    "b = petrolcar()                \n"
   ]
  },
  {
   "cell_type": "code",
   "execution_count": 2,
   "id": "7f1c357e",
   "metadata": {},
   "outputs": [
    {
     "name": "stdout",
     "output_type": "stream",
     "text": [
      "Ravi has 6000 in account\n",
      "Savings account interest rate : 6%\n"
     ]
    }
   ],
   "source": [
    "class accounts:\n",
    "    def __init__(self,name,balance):\n",
    "        self.name = name\n",
    "        self.balance = balance\n",
    "\n",
    "    def show_balance(self):\n",
    "        print(f\"{self.name} has {self.balance} in account\")   \n",
    "\n",
    "#child class\n",
    "class SavingsAccount(accounts):\n",
    "    def show_interest_rate(self):\n",
    "        print(\"Savings account interest rate : 6%\")\n",
    "\n",
    "#Inherited behaviour\n",
    "s = SavingsAccount(\"Ravi\",6000)\n",
    "s.show_balance()\n",
    "s.show_interest_rate()               "
   ]
  },
  {
   "cell_type": "code",
   "execution_count": 12,
   "id": "5b977806",
   "metadata": {},
   "outputs": [
    {
     "name": "stdout",
     "output_type": "stream",
     "text": [
      "bye\n",
      "hello\n",
      "hii\n"
     ]
    }
   ],
   "source": [
    "class grandparents:\n",
    "    def __init__(self):\n",
    "        self.eye = input(\"enter a eyecolor\")\n",
    "        self.hair = input(\"enter the hair color\")\n",
    "\n",
    "    def greet(self):\n",
    "        print(\"hii\")\n",
    "\n",
    "# child class\n",
    "class parent(grandparents):\n",
    "    def greeting(self):\n",
    "        print(\"hello\")\n",
    "\n",
    "#child class\n",
    "class child(grandparents):\n",
    "    def greetings(self):\n",
    "        print(\"bye\")\n",
    "\n",
    "#inherited behaviour\n",
    "c=grandparents()\n",
    "d=parent()\n",
    "e=child()\n",
    "\n",
    "e.greetings()\n",
    "d.greeting()\n",
    "c.greet()"
   ]
  },
  {
   "cell_type": "code",
   "execution_count": null,
   "id": "f39edc92",
   "metadata": {},
   "outputs": [],
   "source": [
    "'''\n",
    "Summary : An object cn have multiple class\n",
    "class is bundling of data and functionality together\n",
    "constructor is responsible  bundling of data and functionality \n",
    "Creating a new class creates a new type of object\n",
    "a function defined inside a classs is a method\n",
    "if variable is in the class is a attribute\n",
    "self keyword is to be wriiten before declaring a variable\n",
    "class contains multiple objects\n",
    "we can add multiple functions inside class\n",
    "'''"
   ]
  },
  {
   "cell_type": "code",
   "execution_count": null,
   "id": "c9867258",
   "metadata": {},
   "outputs": [],
   "source": [
    "'''\n",
    "While creating class first we need to define class by defining class class_name():\n",
    "Write the costructor def __init__(self):\n",
    "write the function for the parent class ( excisting class)\n",
    "create another class child and create function inside that class \n",
    "child class is optional\n",
    "create object object_name = class_name\n",
    "call the class class_name()\n",
    "'''"
   ]
  }
 ],
 "metadata": {
  "kernelspec": {
   "display_name": "base",
   "language": "python",
   "name": "python3"
  },
  "language_info": {
   "codemirror_mode": {
    "name": "ipython",
    "version": 3
   },
   "file_extension": ".py",
   "mimetype": "text/x-python",
   "name": "python",
   "nbconvert_exporter": "python",
   "pygments_lexer": "ipython3",
   "version": "3.12.7"
  }
 },
 "nbformat": 4,
 "nbformat_minor": 5
}
