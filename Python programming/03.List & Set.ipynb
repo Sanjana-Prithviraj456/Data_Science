{
 "cells": [
  {
   "cell_type": "markdown",
   "id": "d908e24b",
   "metadata": {},
   "source": [
    "# List\n"
   ]
  },
  {
   "cell_type": "code",
   "execution_count": 1,
   "id": "c8683e51",
   "metadata": {},
   "outputs": [
    {
     "name": "stdout",
     "output_type": "stream",
     "text": [
      "<class 'list'>\n",
      "[1]\n",
      "[1, 2]\n"
     ]
    }
   ],
   "source": [
    "# List : Data Structure of Python Programming\n",
    "# List is Mutable in Nature\n",
    "''' \n",
    "If any function defined inside a class then such function is called 'Method'.\n",
    "List: List is the collection of different datatypes of python arranged in sequential manner.\n",
    "'''\n",
    "\n",
    "lst = []  # Blank List\n",
    "print(type(lst))\n",
    "lst.append(1)  # Function : Method  \n",
    "print(lst)\n",
    "lst.append(2)  \n",
    "print(lst)"
   ]
  },
  {
   "cell_type": "code",
   "execution_count": 2,
   "id": "238d6569",
   "metadata": {},
   "outputs": [
    {
     "name": "stdout",
     "output_type": "stream",
     "text": [
      "[]\n"
     ]
    }
   ],
   "source": [
    "# clear() function will clear all the datatype mentioned inside a list \n",
    "lst.clear() \n",
    "print(lst)"
   ]
  },
  {
   "cell_type": "code",
   "execution_count": 4,
   "id": "03e38005",
   "metadata": {},
   "outputs": [
    {
     "name": "stdout",
     "output_type": "stream",
     "text": [
      "[10, 20, 10, 20]\n"
     ]
    }
   ],
   "source": [
    "# append() function : Add the value at the last index of the list\n",
    "lst.append(10)\n",
    "lst.append(20)\n",
    "print (lst)"
   ]
  },
  {
   "cell_type": "code",
   "execution_count": 5,
   "id": "15e00f8b",
   "metadata": {},
   "outputs": [
    {
     "name": "stdout",
     "output_type": "stream",
     "text": [
      "[0, 10, 20, 30, 10, 20]\n"
     ]
    }
   ],
   "source": [
    "# Insert () function : will add value to the specified index\n",
    "lst.insert(0,0)\n",
    "lst.insert(3,30)\n",
    "print(lst)"
   ]
  },
  {
   "cell_type": "code",
   "execution_count": 6,
   "id": "2389c335",
   "metadata": {},
   "outputs": [
    {
     "data": {
      "text/plain": [
       "90"
      ]
     },
     "execution_count": 6,
     "metadata": {},
     "output_type": "execute_result"
    }
   ],
   "source": [
    "# we cant add values so we have to use numpy\n",
    "import numpy as np\n",
    "a = np.array(lst)\n",
    "a.sum()"
   ]
  },
  {
   "cell_type": "code",
   "execution_count": 7,
   "id": "d2c1efeb",
   "metadata": {},
   "outputs": [
    {
     "data": {
      "text/plain": [
       "2"
      ]
     },
     "execution_count": 7,
     "metadata": {},
     "output_type": "execute_result"
    }
   ],
   "source": [
    "# count() function : It will count how many specified values are there\n",
    "lst.count(20)"
   ]
  },
  {
   "cell_type": "code",
   "execution_count": 8,
   "id": "58c085f4",
   "metadata": {},
   "outputs": [
    {
     "data": {
      "text/plain": [
       "1"
      ]
     },
     "execution_count": 8,
     "metadata": {},
     "output_type": "execute_result"
    }
   ],
   "source": [
    "# index function () : It will return the value presented in that index\n",
    "lst.index(10)"
   ]
  },
  {
   "cell_type": "code",
   "execution_count": null,
   "id": "90daa038",
   "metadata": {},
   "outputs": [
    {
     "data": {
      "text/plain": [
       "2"
      ]
     },
     "execution_count": 9,
     "metadata": {},
     "output_type": "execute_result"
    }
   ],
   "source": [
    "# searching alogorithm : Searches the value presented in that index\n",
    "lst.index(20)"
   ]
  },
  {
   "cell_type": "code",
   "execution_count": 7,
   "id": "ff68073b",
   "metadata": {},
   "outputs": [
    {
     "name": "stdout",
     "output_type": "stream",
     "text": [
      "[10, 20, 30, 40, 60, 100]\n"
     ]
    }
   ],
   "source": [
    "# Sorting Algorithm : Sorts value in ascending order\n",
    "m = [100,20,60,10,30,40]\n",
    "m.sort(reverse=False)\n",
    "print(m)\n",
    "\n"
   ]
  },
  {
   "cell_type": "code",
   "execution_count": 6,
   "id": "993c7a70",
   "metadata": {},
   "outputs": [
    {
     "name": "stdout",
     "output_type": "stream",
     "text": [
      "[10, 20, 30, 40, 60, 100]\n"
     ]
    }
   ],
   "source": [
    "m = [100,20,60,10,30,40]\n",
    "m.sort()\n",
    "print(m)"
   ]
  },
  {
   "cell_type": "code",
   "execution_count": 14,
   "id": "f452d3ce",
   "metadata": {},
   "outputs": [
    {
     "name": "stdout",
     "output_type": "stream",
     "text": [
      "[100, 20, 10, 30, 40, 60]\n"
     ]
    }
   ],
   "source": [
    "# copy() function : copies the value presented in the given list\n",
    "n = m.copy()\n",
    "print(n)"
   ]
  },
  {
   "cell_type": "code",
   "execution_count": 15,
   "id": "531f6e6c",
   "metadata": {},
   "outputs": [
    {
     "data": {
      "text/plain": [
       "[100, 20, 10, 30, 40, 60, 20, 30, 40, 50]"
      ]
     },
     "execution_count": 15,
     "metadata": {},
     "output_type": "execute_result"
    }
   ],
   "source": [
    "# extend() function : extend the list with the previous list\n",
    "n.extend([20,30,40,50])\n",
    "n"
   ]
  },
  {
   "cell_type": "code",
   "execution_count": null,
   "id": "51843593",
   "metadata": {},
   "outputs": [
    {
     "data": {
      "text/plain": [
       "40"
      ]
     },
     "execution_count": 17,
     "metadata": {},
     "output_type": "execute_result"
    }
   ],
   "source": [
    "# pop() will remove the last value present inside a list\n",
    "m.pop()\n"
   ]
  },
  {
   "cell_type": "code",
   "execution_count": 18,
   "id": "cebf42bd",
   "metadata": {},
   "outputs": [
    {
     "name": "stdout",
     "output_type": "stream",
     "text": [
      "[100, 20, 10, 30]\n"
     ]
    }
   ],
   "source": [
    "print(m)"
   ]
  },
  {
   "cell_type": "code",
   "execution_count": null,
   "id": "afb64095",
   "metadata": {},
   "outputs": [
    {
     "name": "stdout",
     "output_type": "stream",
     "text": [
      "[100, 20, 10]\n"
     ]
    }
   ],
   "source": [
    "# Remove() : will remove the given value in a list\n",
    "m.remove(30)\n",
    "print (m)"
   ]
  },
  {
   "cell_type": "code",
   "execution_count": null,
   "id": "677263dc",
   "metadata": {},
   "outputs": [
    {
     "name": "stdout",
     "output_type": "stream",
     "text": [
      "[0, 10, 10, 20, 30]\n"
     ]
    }
   ],
   "source": [
    "\n",
    "a = [0,10,10,10,20,30] # only removes the 10 presented in index 1\n",
    "a.remove(10)\n",
    "print(a)"
   ]
  },
  {
   "cell_type": "code",
   "execution_count": 21,
   "id": "324c83f2",
   "metadata": {},
   "outputs": [
    {
     "data": {
      "text/plain": [
       "40"
      ]
     },
     "execution_count": 21,
     "metadata": {},
     "output_type": "execute_result"
    }
   ],
   "source": [
    "# Concept of Indexing and Slicing\n",
    "\n",
    "array = [10,20,30,40,50,60]\n",
    "array[3]"
   ]
  },
  {
   "cell_type": "code",
   "execution_count": 22,
   "id": "726ef70e",
   "metadata": {},
   "outputs": [
    {
     "name": "stdout",
     "output_type": "stream",
     "text": [
      "200\n"
     ]
    }
   ],
   "source": [
    "lst = [10,20,30,[100,200,300]]\n",
    "print(lst[3][1])"
   ]
  },
  {
   "cell_type": "code",
   "execution_count": 25,
   "id": "f1e9f4a9",
   "metadata": {},
   "outputs": [],
   "source": [
    "lst = [1,2,[3,[4,[5,6,7,[8],9],10],11],12]\n"
   ]
  },
  {
   "cell_type": "code",
   "execution_count": 26,
   "id": "356c4f17",
   "metadata": {},
   "outputs": [
    {
     "name": "stdout",
     "output_type": "stream",
     "text": [
      "8\n"
     ]
    }
   ],
   "source": [
    "print(lst[2][1][1][3][0])"
   ]
  },
  {
   "cell_type": "code",
   "execution_count": 29,
   "id": "fddce023",
   "metadata": {},
   "outputs": [],
   "source": [
    "d = [10,20,30,[40,[50,[600,700,800,[900],1,2],3],4],5]"
   ]
  },
  {
   "cell_type": "code",
   "execution_count": 30,
   "id": "63eb9cde",
   "metadata": {},
   "outputs": [
    {
     "name": "stdout",
     "output_type": "stream",
     "text": [
      "900\n"
     ]
    }
   ],
   "source": [
    "# Answer : 900\n",
    "print(d[3][1][1][3][0])"
   ]
  },
  {
   "cell_type": "code",
   "execution_count": 31,
   "id": "15f68c5f",
   "metadata": {},
   "outputs": [
    {
     "name": "stdout",
     "output_type": "stream",
     "text": [
      "(6, 7, 8, 9)\n"
     ]
    }
   ],
   "source": [
    "# Answer: (6,7,8,9)\n",
    "e = [10,20,30,[40,50,60,(1,2,(3,4,(5,6,7,8,9,10),11),12),13],14]\n",
    "print(e[3][3][2][2][1:5])"
   ]
  },
  {
   "cell_type": "code",
   "execution_count": 32,
   "id": "394f73a7",
   "metadata": {},
   "outputs": [
    {
     "name": "stdout",
     "output_type": "stream",
     "text": [
      "[600, 500, 400, 300, 200, 100]\n"
     ]
    }
   ],
   "source": [
    "# Reversing a list\n",
    "a = [100,200,300,400,500,600]\n",
    "a.reverse()\n",
    "print(a)"
   ]
  },
  {
   "cell_type": "code",
   "execution_count": 33,
   "id": "e2d02648",
   "metadata": {},
   "outputs": [
    {
     "name": "stdout",
     "output_type": "stream",
     "text": [
      "[3000, 800, 600, 500, 300, 100]\n"
     ]
    }
   ],
   "source": [
    "# Reversing a list : Alternative Method\n",
    "# [start:stop:step]\n",
    "\n",
    "a = [100,300,500,600,800,3000]\n",
    "print(a[::-1])"
   ]
  },
  {
   "cell_type": "code",
   "execution_count": null,
   "id": "266ce21c",
   "metadata": {},
   "outputs": [],
   "source": [
    "'''\n",
    "Summary\n",
    "List : Data Structure of Python Programming\n",
    "List is Mutable in Nature\n",
    "If any function defined inside a class then such function is called 'Method'.\n",
    "List: List is the collection of different datatypes of python arranged in sequential manner.\n",
    "\n",
    "Functions / Methods  of List\n",
    "* clear() function will clear all the datatype mentioned inside a list \n",
    "* append() function : Add the value at the last index of the list\n",
    "* Insert () function : will add value to the specified index\n",
    "* count() function : It will count how many specified values are there\n",
    "* index function () : It will return the value presented in that index\n",
    "* extend() function : extend the list with the previous list\n",
    "* copy() function : copies the value presented in the given list\n",
    "*  pop() will remove the last value present inside a list\n",
    "* Remove() : will remove the given value in a list\n",
    "* reverse(): will reverse the values in the list\n",
    "\n",
    "\n",
    "\n",
    "'''"
   ]
  },
  {
   "cell_type": "markdown",
   "id": "db509f5b",
   "metadata": {},
   "source": [
    "# Set\n"
   ]
  },
  {
   "cell_type": "code",
   "execution_count": 1,
   "id": "d117abf6",
   "metadata": {},
   "outputs": [
    {
     "name": "stdout",
     "output_type": "stream",
     "text": [
      "{2, 34, 23, 56, 90}\n",
      "<class 'set'>\n"
     ]
    }
   ],
   "source": [
    "'''\n",
    "Set is a data structure and is mutable\n",
    "set is a class\n",
    "it contains only number\n",
    "'''\n",
    "set = {2,34,56,23,90}\n",
    "print (set)\n",
    "print(type(set))"
   ]
  }
 ],
 "metadata": {
  "kernelspec": {
   "display_name": "base",
   "language": "python",
   "name": "python3"
  },
  "language_info": {
   "codemirror_mode": {
    "name": "ipython",
    "version": 3
   },
   "file_extension": ".py",
   "mimetype": "text/x-python",
   "name": "python",
   "nbconvert_exporter": "python",
   "pygments_lexer": "ipython3",
   "version": "3.12.7"
  }
 },
 "nbformat": 4,
 "nbformat_minor": 5
}
