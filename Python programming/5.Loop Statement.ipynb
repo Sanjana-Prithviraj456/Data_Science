{
 "cells": [
  {
   "cell_type": "markdown",
   "id": "6c585cfd",
   "metadata": {},
   "source": [
    "# For Loop\n"
   ]
  },
  {
   "cell_type": "code",
   "execution_count": 1,
   "id": "7e9a9908",
   "metadata": {},
   "outputs": [
    {
     "name": "stdout",
     "output_type": "stream",
     "text": [
      "0\n",
      "1\n",
      "2\n",
      "3\n",
      "4\n",
      "5\n",
      "6\n",
      "7\n",
      "8\n",
      "9\n"
     ]
    }
   ],
   "source": [
    "# For Loop\n",
    "for i in range(0,10):\n",
    "    print(i)\n",
    "\n",
    "    '''\n",
    "    i is the iterative \n",
    "    in is the operator\n",
    "    range is the function\n",
    "\n",
    "    '''"
   ]
  },
  {
   "cell_type": "code",
   "execution_count": 2,
   "id": "6986e18e",
   "metadata": {},
   "outputs": [
    {
     "name": "stdout",
     "output_type": "stream",
     "text": [
      "0 1 2 3 4 5 6 7 8 9 "
     ]
    }
   ],
   "source": [
    "# In the horizontal manner\n",
    "for i in range(0,10):\n",
    "    print(i, end =' ')"
   ]
  },
  {
   "cell_type": "code",
   "execution_count": 3,
   "id": "016b5ee4",
   "metadata": {},
   "outputs": [
    {
     "name": "stdout",
     "output_type": "stream",
     "text": [
      "*\n",
      "**\n",
      "***\n",
      "****\n",
      "*****\n",
      "******\n"
     ]
    }
   ],
   "source": [
    "'''\n",
    "*\n",
    "**\n",
    "***\n",
    "****\n",
    "till 6 *\n",
    "'''\n",
    "for i in range(1,7):\n",
    "    print(i*'*')"
   ]
  },
  {
   "cell_type": "code",
   "execution_count": 4,
   "id": "48cfdb23",
   "metadata": {},
   "outputs": [
    {
     "name": "stdout",
     "output_type": "stream",
     "text": [
      "hii\n",
      "world\n",
      "python\n"
     ]
    }
   ],
   "source": [
    "a=[\"Hii\",\"World\",\"Python\"]\n",
    "for  i in a:\n",
    "    print(i.lower())"
   ]
  },
  {
   "cell_type": "code",
   "execution_count": 1,
   "id": "5272fcbb",
   "metadata": {},
   "outputs": [
    {
     "name": "stdout",
     "output_type": "stream",
     "text": [
      "0\n"
     ]
    }
   ],
   "source": [
    "for i in range (0,10):\n",
    "    print(i)\n",
    "    break\n"
   ]
  },
  {
   "cell_type": "code",
   "execution_count": 4,
   "id": "93f8d261",
   "metadata": {},
   "outputs": [
    {
     "name": "stdout",
     "output_type": "stream",
     "text": [
      "1\n",
      "2\n",
      "3\n",
      "4\n",
      "5\n"
     ]
    }
   ],
   "source": [
    "for i in range (1,6):\n",
    "    print(i)\n",
    "    continue"
   ]
  },
  {
   "cell_type": "code",
   "execution_count": 5,
   "id": "51688fe9",
   "metadata": {},
   "outputs": [
    {
     "name": "stdout",
     "output_type": "stream",
     "text": [
      "1\n",
      "2\n",
      "3\n",
      "4\n",
      "5\n"
     ]
    }
   ],
   "source": [
    "for i in range (1,6):\n",
    "    print(i)\n",
    "    pass"
   ]
  },
  {
   "cell_type": "code",
   "execution_count": 6,
   "id": "f92912cb",
   "metadata": {},
   "outputs": [
    {
     "name": "stdout",
     "output_type": "stream",
     "text": [
      "0\n",
      "1\n",
      "2\n",
      "3\n",
      "4\n",
      "1\n",
      "1\n",
      "2\n",
      "3\n",
      "4\n",
      "2\n",
      "1\n",
      "2\n",
      "3\n",
      "4\n",
      "3\n",
      "1\n",
      "2\n",
      "3\n",
      "4\n",
      "4\n",
      "1\n",
      "2\n",
      "3\n",
      "4\n",
      "5\n",
      "1\n",
      "2\n",
      "3\n",
      "4\n"
     ]
    }
   ],
   "source": [
    "for i in range (0,6):\n",
    "    pass\n",
    "    print (i)\n",
    "    for i in range (1,5):\n",
    "        print(i)\n",
    "        pass"
   ]
  },
  {
   "cell_type": "code",
   "execution_count": 11,
   "id": "9f922e39",
   "metadata": {},
   "outputs": [
    {
     "name": "stdout",
     "output_type": "stream",
     "text": [
      "10\n"
     ]
    }
   ],
   "source": [
    "for i in range (10,15):\n",
    "    print(i)\n",
    "    break\n",
    "    for i in range(0,10,2):\n",
    "        print(i)\n",
    "        pass"
   ]
  },
  {
   "cell_type": "code",
   "execution_count": 13,
   "id": "ac7907d0",
   "metadata": {},
   "outputs": [
    {
     "name": "stdout",
     "output_type": "stream",
     "text": [
      "10\n",
      "11\n",
      "12\n",
      "13\n",
      "14\n"
     ]
    }
   ],
   "source": [
    "for i in range (10,15):\n",
    "    print(i)\n",
    "    continue\n",
    "    for i in range (0,10,2):\n",
    "        print(i)\n",
    "        break"
   ]
  },
  {
   "cell_type": "code",
   "execution_count": 14,
   "id": "dbdd9b84",
   "metadata": {},
   "outputs": [
    {
     "name": "stdout",
     "output_type": "stream",
     "text": [
      "10\n",
      "0\n",
      "11\n",
      "0\n",
      "12\n",
      "0\n",
      "13\n",
      "0\n",
      "14\n",
      "0\n"
     ]
    }
   ],
   "source": [
    "for i in range (10,15):\n",
    "    print(i)\n",
    "    pass\n",
    "    for i in range (0,10,2):\n",
    "        print(i)\n",
    "        break"
   ]
  },
  {
<<<<<<< HEAD
   "cell_type": "markdown",
   "id": "744b7b3f",
   "metadata": {},
   "source": [
    "# While Loop\n"
   ]
  },
  {
=======
>>>>>>> b4f0d25ba729aeefe1122413848798d28fc7e369
   "cell_type": "code",
   "execution_count": 20,
   "id": "6e3d42b1",
   "metadata": {},
   "outputs": [
    {
     "name": "stdout",
     "output_type": "stream",
     "text": [
      "0\n",
      "2\n",
      "4\n",
      "6\n",
      "8\n",
      "10\n"
     ]
    }
   ],
   "source": [
    "# While Loop\n",
    "count = 0\n",
    "\n",
    "while i<=10:\n",
    "    print(i)\n",
    "    i = i + 2"
   ]
  },
  {
   "cell_type": "code",
   "execution_count": null,
   "id": "336f82f1",
   "metadata": {},
   "outputs": [],
   "source": [
    "'''\n",
    "Loop function will run the given statement until the condition becomes false\n",
    "for i in range(0,10):\n",
    "    print(i)\n",
    "\n",
    "    i is the iterative \n",
    "    in is the operator\n",
    "    range is the function\n",
    "\n",
    "    break statement will break the condition and go back to starting position\n",
    "    continue statement will allows to continue the condition without any break\n",
    "    pass statement is similar to continue the codition will run without any break\n",
    "\n",
    "    If for loop is presented inside outer for loop it is called nested for loop \n",
    "    In nested for loop the loop check the condition of outer for loop first \n",
    "    if there is no break statement in the outer  loop  then it checks the condition of 2nd for loop\n",
    "    if the break statement is presented in outer loop , loop doesn't check the condition of inner for loop\n",
<<<<<<< HEAD
    "    for loop is faster than while loop\n",
=======
>>>>>>> b4f0d25ba729aeefe1122413848798d28fc7e369
    "'''"
   ]
  }
 ],
 "metadata": {
  "kernelspec": {
   "display_name": "base",
   "language": "python",
   "name": "python3"
  },
  "language_info": {
   "codemirror_mode": {
    "name": "ipython",
    "version": 3
   },
   "file_extension": ".py",
   "mimetype": "text/x-python",
   "name": "python",
   "nbconvert_exporter": "python",
   "pygments_lexer": "ipython3",
   "version": "3.12.7"
  }
 },
 "nbformat": 4,
 "nbformat_minor": 5
}
