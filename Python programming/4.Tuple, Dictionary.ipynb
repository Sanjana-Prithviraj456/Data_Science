{
 "cells": [
  {
   "cell_type": "markdown",
   "id": "234177ff",
   "metadata": {},
   "source": [
    "# Tuple"
   ]
  },
  {
   "cell_type": "code",
   "execution_count": 7,
   "id": "9d37b8cb",
   "metadata": {},
   "outputs": [],
   "source": [
    "# Tuple: Data Structure of Python Programming\n",
    "# Tuple is Immutable whereas List is Mutable\n",
    "\n",
    "tup = () # Define tuple : tup()\n",
    "tup = (1,2,3,4,5,6,7)\n",
    "tup = ('Hii','Hello','Bye','Welcome')\n",
    "tup = (1.11,2.222,3.43434)\n",
    "tup = (True,False)"
   ]
  },
  {
   "cell_type": "code",
   "execution_count": 8,
   "id": "adfc6158",
   "metadata": {},
   "outputs": [],
   "source": [
    "tup = (10,20,30,2.121,4343.232323,'Helloworld',True,False)"
   ]
  },
  {
   "cell_type": "code",
   "execution_count": 9,
   "id": "2d7197c7",
   "metadata": {},
   "outputs": [
    {
     "data": {
      "text/plain": [
       "1"
      ]
     },
     "execution_count": 9,
     "metadata": {},
     "output_type": "execute_result"
    }
   ],
   "source": [
    "# count(): Counts the specified value in a tuple\n",
    "tup.count(20)"
   ]
  },
  {
   "cell_type": "code",
   "execution_count": 10,
   "id": "056bd711",
   "metadata": {},
   "outputs": [
    {
     "data": {
      "text/plain": [
       "2"
      ]
     },
     "execution_count": 10,
     "metadata": {},
     "output_type": "execute_result"
    }
   ],
   "source": [
    "# index(): Gives the index of specified value\n",
    "tup.index(30)"
   ]
  },
  {
   "cell_type": "code",
   "execution_count": 11,
   "id": "afa53767",
   "metadata": {},
   "outputs": [
    {
     "name": "stdout",
     "output_type": "stream",
     "text": [
      "[600, 700]\n"
     ]
    }
   ],
   "source": [
    "# Using Concept of Indexing and Slicing\n",
    "tup = (100,200,(300,400,[500,600,700,800],1,2,3),4,5)\n",
    "print(tup[2][2][1:3])"
   ]
  },
  {
   "cell_type": "code",
<<<<<<< HEAD
   "execution_count": 12,
=======
   "execution_count": 1,
>>>>>>> b4f0d25ba729aeefe1122413848798d28fc7e369
   "id": "b588d70d",
   "metadata": {},
   "outputs": [
    {
     "name": "stdout",
     "output_type": "stream",
     "text": [
      "(1, 2, 3, 4, 5.6, 7, 8)\n",
      "(1, 2, 3, 4, 1, 2, 3, 4)\n"
     ]
    }
   ],
   "source": [
    "tup1 = (1,2,3,4) \n",
    "tup2 = (5.6,7,8)\n",
    "print(tup1 + tup2)\n",
    "print(tup1*2) # Multiplcation cannot happen with float"
   ]
  },
  {
   "cell_type": "markdown",
   "id": "de09e82e",
   "metadata": {},
   "source": [
    "# Dictionary"
   ]
  },
  {
   "cell_type": "code",
   "execution_count": 6,
   "id": "f6196fec",
   "metadata": {},
   "outputs": [
    {
     "name": "stdout",
     "output_type": "stream",
     "text": [
      "{'Country': ['India', 'USA', 'UK'], 'GDP': [9, 6, 8]}\n"
     ]
    }
   ],
   "source": [
    "# Dictionary : Data Structure of Python Programming\n",
    "# Dictionary is Mutable in Nature\n",
    "'''\n",
    "dict = {'Key': Value}\n",
    "'''\n",
    "d = {'Country':['India','USA','UK'],\n",
    "     'GDP': [9,6,8]}\n",
    "print (d)"
   ]
  },
  {
   "cell_type": "code",
   "execution_count": 7,
   "id": "8785421f",
   "metadata": {},
   "outputs": [
    {
     "data": {
      "text/plain": [
       "['India', 'USA', 'UK']"
      ]
     },
     "execution_count": 7,
     "metadata": {},
     "output_type": "execute_result"
    }
   ],
   "source": [
    "# Using Concept of Indexing\n",
    "d['Country']"
   ]
  },
  {
   "cell_type": "code",
   "execution_count": 8,
   "id": "cf3f7c73",
   "metadata": {},
   "outputs": [
    {
     "data": {
      "text/plain": [
       "'USA'"
      ]
     },
     "execution_count": 8,
     "metadata": {},
     "output_type": "execute_result"
    }
   ],
   "source": [
    "d['Country'][1]"
   ]
  },
  {
   "cell_type": "code",
   "execution_count": 10,
   "id": "7959a7cd",
   "metadata": {},
   "outputs": [
    {
     "data": {
      "text/plain": [
       "8"
      ]
     },
     "execution_count": 10,
     "metadata": {},
     "output_type": "execute_result"
    }
   ],
   "source": [
    "d['GDP'][2]"
   ]
  },
  {
   "cell_type": "code",
   "execution_count": null,
   "id": "ce9d641d",
   "metadata": {},
   "outputs": [
    {
     "data": {
      "text/plain": [
       "[9, 6]"
      ]
     },
     "execution_count": 9,
     "metadata": {},
     "output_type": "execute_result"
    }
   ],
   "source": [
    "\n",
    "d['GDP'][:2]"
   ]
  },
  {
   "cell_type": "code",
   "execution_count": 11,
   "id": "6d9acc53",
   "metadata": {},
   "outputs": [
    {
     "data": {
      "text/plain": [
       "dict_keys(['Country', 'GDP'])"
      ]
     },
     "execution_count": 11,
     "metadata": {},
     "output_type": "execute_result"
    }
   ],
   "source": [
    "d.keys()"
   ]
  },
  {
   "cell_type": "code",
   "execution_count": 12,
   "id": "1aceada7",
   "metadata": {},
   "outputs": [
    {
     "data": {
      "text/plain": [
       "dict_items([('Country', ['India', 'USA', 'UK']), ('GDP', [9, 6, 8])])"
      ]
     },
     "execution_count": 12,
     "metadata": {},
     "output_type": "execute_result"
    }
   ],
   "source": [
    "d.items()"
   ]
  },
  {
   "cell_type": "code",
   "execution_count": 13,
   "id": "95e94098",
   "metadata": {},
   "outputs": [
    {
     "data": {
      "text/plain": [
       "dict_values([['India', 'USA', 'UK'], [9, 6, 8]])"
      ]
     },
     "execution_count": 13,
     "metadata": {},
     "output_type": "execute_result"
    }
   ],
   "source": [
    "d.values()"
   ]
  },
  {
   "cell_type": "code",
   "execution_count": 14,
   "id": "8b62f08a",
   "metadata": {},
   "outputs": [
    {
     "data": {
      "text/plain": [
       "'UK'"
      ]
     },
     "execution_count": 14,
     "metadata": {},
     "output_type": "execute_result"
    }
   ],
   "source": [
    "d['Country'].pop()"
   ]
  },
  {
   "cell_type": "code",
   "execution_count": 15,
   "id": "f08120fb",
   "metadata": {},
   "outputs": [],
   "source": [
    "d.clear()\n"
   ]
  },
  {
   "cell_type": "code",
   "execution_count": 16,
   "id": "f4821f98",
   "metadata": {},
   "outputs": [
    {
     "name": "stdout",
     "output_type": "stream",
     "text": [
      "{}\n"
     ]
    }
   ],
   "source": [
    "print(d)"
   ]
  },
  {
   "cell_type": "code",
   "execution_count": null,
   "id": "74303eec",
   "metadata": {},
   "outputs": [],
   "source": [
    "'''\n",
    "Summary \n",
    "Tuple: Data Structure of Python Programming\n",
    " Tuple is Immutable whereas List is Mutable\n",
    "\n",
    " # print (tup1*tup) will throw a error\n",
    "# print(tup1/tup2) will throw a error\n",
    "#  # Subtraction is not possible in tuple\n",
    "\n",
    "\n",
    " Functions in Tuple\n",
    " count(): Counts the specified value in a tuple\n",
    " index(): Gives the index of specified value\n",
    "\n",
    " Dictionary : Data Structure of Python Programming\n",
    " Dictionary is Mutable in Nature\n",
    " Functions of dictionary : \n",
    " key(): Returns the key elements\n",
    " value(): Returns the value of elements\n",
    " items(): Returns both the key and value\n",
<<<<<<< HEAD
    " pop()\n",
=======
>>>>>>> b4f0d25ba729aeefe1122413848798d28fc7e369
    "\n",
    " \n",
    " \n",
    "'''"
   ]
  },
  {
   "cell_type": "markdown",
   "id": "ee414459",
   "metadata": {},
   "source": [
    "# DMAS Rule"
   ]
  },
  {
   "cell_type": "code",
   "execution_count": 19,
   "id": "fcf34622",
   "metadata": {},
   "outputs": [
    {
     "data": {
      "text/plain": [
       "215.0"
      ]
     },
     "execution_count": 19,
     "metadata": {},
     "output_type": "execute_result"
    }
   ],
   "source": [
    "# DMAS Rule\n",
    "(100*2 + (30/2))"
   ]
  },
  {
   "cell_type": "code",
   "execution_count": null,
   "id": "9db7c65b",
   "metadata": {},
   "outputs": [
    {
     "data": {
      "text/plain": [
       "215"
      ]
     },
     "execution_count": 20,
     "metadata": {},
     "output_type": "execute_result"
    }
   ],
   "source": [
    "(100*2 + (30//2)) #// converts to integer"
   ]
  },
  {
   "cell_type": "code",
   "execution_count": null,
   "id": "51cb5984",
   "metadata": {},
   "outputs": [
    {
     "data": {
      "text/plain": [
       "400"
      ]
     },
     "execution_count": 21,
     "metadata": {},
     "output_type": "execute_result"
    }
   ],
   "source": [
    "20**2 # ** is the square root"
   ]
  },
  {
   "cell_type": "code",
   "execution_count": null,
   "id": "b6308eea",
   "metadata": {},
   "outputs": [
    {
     "data": {
      "text/plain": [
       "50.0"
      ]
     },
     "execution_count": 3,
     "metadata": {},
     "output_type": "execute_result"
    }
   ],
   "source": [
    "100/2 # / Answer will be in float"
   ]
  },
  {
   "cell_type": "code",
   "execution_count": null,
   "id": "35776bbf",
   "metadata": {},
   "outputs": [
    {
     "data": {
      "text/plain": [
       "50"
      ]
     },
     "execution_count": 4,
     "metadata": {},
     "output_type": "execute_result"
    }
   ],
   "source": [
    "100//2 # // Answer will be in int"
   ]
  },
  {
   "cell_type": "code",
   "execution_count": 5,
   "id": "e7d1915e",
   "metadata": {},
   "outputs": [
    {
     "data": {
      "text/plain": [
       "0"
      ]
     },
     "execution_count": 5,
     "metadata": {},
     "output_type": "execute_result"
    }
   ],
   "source": [
    "# Moduleou Operator : Gives the remainder\n",
    "100%2"
   ]
  },
  {
   "cell_type": "code",
   "execution_count": 6,
   "id": "b158d8af",
   "metadata": {},
   "outputs": [
    {
     "data": {
      "text/plain": [
       "1"
      ]
     },
     "execution_count": 6,
     "metadata": {},
     "output_type": "execute_result"
    }
   ],
   "source": [
    "100%3"
   ]
  },
  {
   "cell_type": "code",
   "execution_count": null,
   "id": "a457dce1",
   "metadata": {},
   "outputs": [
    {
     "name": "stdout",
     "output_type": "stream",
     "text": [
      "100\n",
      "2.0\n"
     ]
    }
   ],
   "source": [
    "# Exponent Operator : ** Gives the square root\n",
    "print(10**2) # 10*10\n",
    "print(4**0.5) # 4/2\n"
   ]
  },
  {
   "cell_type": "code",
   "execution_count": null,
   "id": "3269fc2a",
   "metadata": {},
   "outputs": [],
   "source": [
    "'''\n",
    "Summary of DMAS Rule\n",
    "\n",
    "In a combined question first we will divide, multiply, add nd Sub\n",
    "While dividing if we add only 1 / ans will be in float\n",
    "if we divide with 2 // ans will be in int\n",
    "If we add 2 multiplication symbol ** returns the square root\n",
    "% is the moduloe operator which gives the remainder\n",
    "2 multiplication symbol ** is the exponent operator \n",
    "'''"
   ]
  }
 ],
 "metadata": {
  "kernelspec": {
   "display_name": "base",
   "language": "python",
   "name": "python3"
  },
  "language_info": {
   "codemirror_mode": {
    "name": "ipython",
    "version": 3
   },
   "file_extension": ".py",
   "mimetype": "text/x-python",
   "name": "python",
   "nbconvert_exporter": "python",
   "pygments_lexer": "ipython3",
   "version": "3.12.7"
  }
 },
 "nbformat": 4,
 "nbformat_minor": 5
}
