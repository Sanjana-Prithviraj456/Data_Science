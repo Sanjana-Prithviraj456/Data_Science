{
 "cells": [
  {
   "cell_type": "code",
   "execution_count": 2,
   "id": "61816a69",
   "metadata": {},
   "outputs": [],
   "source": [
    "import logging\n",
    "logging.basicConfig(level = logging.INFO,\n",
    "                    filename = 'FileHandling.log',\n",
    "                    filemode = 'w',\n",
    "                    format = '%(asctime)s - %(levelname)s - %(message)s',\n",
    "                    force = True)"
   ]
  },
  {
   "cell_type": "code",
   "execution_count": 3,
   "id": "7017cc81",
   "metadata": {},
   "outputs": [],
   "source": [
    "logging.info('Hi I wanted to log the data')\n",
    "logging.info(\"Hiii\")"
   ]
  },
  {
   "cell_type": "code",
   "execution_count": 4,
   "id": "78f591fe",
   "metadata": {},
   "outputs": [],
   "source": [
    "logging.debug('hii')"
   ]
  },
  {
   "cell_type": "markdown",
   "id": "f50cb2ac",
   "metadata": {},
   "source": [
    "Exception handling"
   ]
  },
  {
   "cell_type": "code",
   "execution_count": 1,
   "id": "0b4c0bc1",
   "metadata": {},
   "outputs": [
    {
     "name": "stdout",
     "output_type": "stream",
     "text": [
      "Divide by zero\n"
     ]
    }
   ],
   "source": [
    "try:\n",
    "    num = 10/0\n",
    "    print(num)\n",
    "\n",
    "except:\n",
    "    print(\"Divide by zero\")"
   ]
  }
 ],
 "metadata": {
  "kernelspec": {
   "display_name": "base",
   "language": "python",
   "name": "python3"
  },
  "language_info": {
   "codemirror_mode": {
    "name": "ipython",
    "version": 3
   },
   "file_extension": ".py",
   "mimetype": "text/x-python",
   "name": "python",
   "nbconvert_exporter": "python",
   "pygments_lexer": "ipython3",
   "version": "3.12.7"
  }
 },
 "nbformat": 4,
 "nbformat_minor": 5
}
