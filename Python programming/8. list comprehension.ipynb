{
 "cells": [
  {
   "cell_type": "markdown",
   "id": "85025812",
   "metadata": {},
   "source": [
    "# List Comprehension\n"
   ]
  },
  {
   "cell_type": "code",
   "execution_count": 1,
   "id": "018e978f",
   "metadata": {},
   "outputs": [
    {
     "name": "stdout",
     "output_type": "stream",
     "text": [
      "[0, 1, 4, 9, 16, 25, 36, 49, 64, 81]\n"
     ]
    }
   ],
   "source": [
    "lst=[]\n",
    "for i in range(10):\n",
    "    lst.append(i**2)\n",
    "\n",
    "print(lst)    "
   ]
  },
  {
   "cell_type": "code",
   "execution_count": null,
   "id": "bc77af69",
   "metadata": {},
   "outputs": [],
   "source": [
    "lst = [i**2 for i in range(10)]\n",
    "print(lst)"
   ]
  },
  {
   "cell_type": "code",
   "execution_count": null,
   "id": "3d95bd5d",
   "metadata": {},
   "outputs": [
    {
     "data": {
      "text/plain": [
       "30"
      ]
     },
     "execution_count": 5,
     "metadata": {},
     "output_type": "execute_result"
    }
   ],
   "source": [
    "lst = [1,2,3,4,5,6,7,8,9,10]\n",
    "\n",
    "sum([i for i in lst if i%2==0])\n"
   ]
  },
  {
   "cell_type": "code",
   "execution_count": 6,
   "id": "a0336807",
   "metadata": {},
   "outputs": [
    {
     "data": {
      "text/plain": [
       "[2, 4, 6, 8, 10]"
      ]
     },
     "execution_count": 6,
     "metadata": {},
     "output_type": "execute_result"
    }
   ],
   "source": [
    "lst = [1,2,3,4,5,6,7,8,9,10]\n",
    "\n",
    "\n",
    "[i for i in lst if i%2==0]"
   ]
  },
  {
   "cell_type": "code",
   "execution_count": null,
   "id": "4082d171",
   "metadata": {},
   "outputs": [],
   "source": [
    "'''\n",
    "List comprehension is a concise way to create lists in Python. It allows you to generate a new list by applying an expression \n",
    "to each item in an existing iterable, optionally filtering items with a condition.\n",
    "\n",
    "absolute value abs converts negative value to positive value\n",
    "\n",
    "[[1,2,3,4]] : 2D Array as there are 2 brackets\n",
    "If there are 3 brackets it is 3D array\n",
    "array is a collection of values \n",
    "List, Tuple is a array\n",
    "'''\n"
   ]
  }
 ],
 "metadata": {
  "kernelspec": {
   "display_name": "base",
   "language": "python",
   "name": "python3"
  },
  "language_info": {
   "codemirror_mode": {
    "name": "ipython",
    "version": 3
   },
   "file_extension": ".py",
   "mimetype": "text/x-python",
   "name": "python",
   "nbconvert_exporter": "python",
   "pygments_lexer": "ipython3",
   "version": "3.12.7"
  }
 },
 "nbformat": 4,
 "nbformat_minor": 5
}
