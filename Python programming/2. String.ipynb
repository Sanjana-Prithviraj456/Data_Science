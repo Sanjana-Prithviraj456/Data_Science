{
 "cells": [
  {
   "cell_type": "markdown",
   "id": "64195ad9",
   "metadata": {},
   "source": [
    "# String\n"
   ]
  },
  {
   "cell_type": "code",
   "execution_count": 2,
   "id": "dedfdfef",
   "metadata": {},
   "outputs": [
    {
     "name": "stdout",
     "output_type": "stream",
     "text": [
      " \n",
      "r\n",
      "m\n"
     ]
    }
   ],
   "source": [
    "# Concept of Indexing\n",
    "'''\n",
    "Indexing starts from 0 from R.H.S and starts from -1 from L.H.S\n",
    "Syntax : var_name[index_num]\n",
    "'''\n",
    "str = 'Hello World, Welcome to the World of Python Progamming'\n",
    "print(str[5])\n",
    "print(str[8])\n",
    "print(str[-4])"
   ]
  },
  {
   "cell_type": "code",
   "execution_count": null,
   "id": "b26d0f3e",
   "metadata": {},
   "outputs": [
    {
     "name": "stdout",
     "output_type": "stream",
     "text": [
      "Hello World, Welcome to the World of Python Progamming\n",
      "Hell\n",
      "am\n",
      "HloWrd ecm oteWrdo yhnPoamn\n",
      "Hello World, Welcome to the World of Python Progamming\n",
      "gnimmagorP nohtyP fo dlroW eht ot emocleW ,dlroW olleH\n"
     ]
    }
   ],
   "source": [
    "# Concept of Slicing \n",
    "''' \n",
    "Syntax : var_name[start:stop:step]\n",
    "'''\n",
    "str = 'Hello World, Welcome to the World of Python Progamming'\n",
    "print(str[:]) # Starts from 0 and ends at the last index\n",
    "print(str[:4]) # Starts from 0 and ends at index 4\n",
    "print(str[-6:-4]) # Starts from -6 and ends at -4 so it is in reverse direction\n",
    "print(str[::2]) # starts at 0 and ends at last index with step count 2\n",
    "print(str[::]) # starts at 0 and ends at last index with step count 1 By default step count is 1\n",
    "print(str[::-1])# starts at 0 and ends at last index with step count -1  Reverse direction"
   ]
  },
  {
   "cell_type": "code",
   "execution_count": 4,
   "id": "28a180c7",
   "metadata": {},
   "outputs": [
    {
     "name": "stdout",
     "output_type": "stream",
     "text": [
      "<class 'str'>\n"
     ]
    }
   ],
   "source": [
    "print(type(str))"
   ]
  },
  {
   "cell_type": "code",
   "execution_count": null,
   "id": "ec98dace",
   "metadata": {},
   "outputs": [
    {
     "name": "stdout",
     "output_type": "stream",
     "text": [
      "HELLO WORLD\n",
      "hello world\n",
      "11\n"
     ]
    }
   ],
   "source": [
    "string = 'Hello World'\n",
    "\n",
    "print(string.upper()) \n",
    "print(string.lower())\n",
    "print(len(string)) # Len is function not method"
   ]
  },
  {
   "cell_type": "code",
   "execution_count": 6,
   "id": "52f9b7c2",
   "metadata": {},
   "outputs": [
    {
     "name": "stdout",
     "output_type": "stream",
     "text": [
      "Idai ra o\n",
      "yr\n",
      "dir n\n"
     ]
    }
   ],
   "source": [
    "s = 'India is great country'\n",
    "\n",
    "print(s[:-5:2])\n",
    "print(s[:-3:-1])\n",
    "print(s[2:-2:4])"
   ]
  },
  {
   "cell_type": "code",
   "execution_count": null,
   "id": "3ae52603",
   "metadata": {},
   "outputs": [],
   "source": [
    "'''\n",
    "Summary\n",
    "Index will always starts from 0 from R.H.S and from -1 on L.H.S\n",
    "Syntax of index L var_name[index_num]\n",
    "String is a data type of python programming\n",
    "String is a class type of python programming\n",
    "\n",
    "syntax of slicing var_name[start:stop:step]\n",
    "By default start index is 0 and end index is the position where the last index is presented\n",
    "By default step count is 1 \n",
    "\n",
    "functions of a string are to upper(), to lower(), len()\n",
    ". is the operator which calls the function ex : .to upper()\n",
    "string is a class and if it is define in function it is called as method  \n",
    "Ex : var_name.upper()        \n",
    "print(var_name.upper())\n",
    "isnum()\n",
    "isalpha()\n",
    "print(len(string)) len is a built in function\n",
    "\n",
    "'''"
   ]
  }
 ],
 "metadata": {
  "kernelspec": {
   "display_name": "base",
   "language": "python",
   "name": "python3"
  },
  "language_info": {
   "codemirror_mode": {
    "name": "ipython",
    "version": 3
   },
   "file_extension": ".py",
   "mimetype": "text/x-python",
   "name": "python",
   "nbconvert_exporter": "python",
   "pygments_lexer": "ipython3",
   "version": "3.12.7"
  }
 },
 "nbformat": 4,
 "nbformat_minor": 5
}
