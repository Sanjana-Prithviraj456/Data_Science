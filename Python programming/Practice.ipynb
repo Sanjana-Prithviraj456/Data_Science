{
 "cells": [
  {
   "cell_type": "code",
   "execution_count": null,
   "id": "621c48d9",
   "metadata": {},
   "outputs": [
    {
     "name": "stdout",
     "output_type": "stream",
     "text": [
      "290.0 is withdrawn successfully\n",
      "The balance amount is {10000}\n"
     ]
    }
   ],
   "source": [
    "amount = 10000\n",
    "threshold =2000\n",
    "\n",
    "def bank():\n",
    "    choi \n",
    "    if choice == '1':"
   ]
  },
  {
   "cell_type": "code",
   "execution_count": 1,
   "id": "8e2407b0",
   "metadata": {},
   "outputs": [
    {
     "name": "stdout",
     "output_type": "stream",
     "text": [
      "Even\n"
     ]
    }
   ],
   "source": [
    "num=float(input(\"Enter a number\"))\n",
    "if (num%2==0):\n",
    "    print(\"Even\")\n",
    "\n",
    "else:\n",
    "    print(\"odd\")"
   ]
  },
  {
   "cell_type": "code",
   "execution_count": 4,
   "id": "2fb0357a",
   "metadata": {},
   "outputs": [
    {
     "name": "stdout",
     "output_type": "stream",
     "text": [
      "Zero\n"
     ]
    }
   ],
   "source": [
    "num=float(input(\"Enter a number\"))\n",
    "if(num<0):\n",
    "    print(\"Negative number\")\n",
    "\n",
    "elif(num>0):\n",
    "    print(\"Positive number\")\n",
    "\n",
    "else:\n",
    "    print(\"Zero\")"
   ]
  },
  {
   "cell_type": "code",
   "execution_count": 13,
   "id": "5d9b27a0",
   "metadata": {},
   "outputs": [
    {
     "name": "stdout",
     "output_type": "stream",
     "text": [
      "Teenage\n"
     ]
    }
   ],
   "source": [
    "age=float(input(\"Enter the age: \"))\n",
    "if(age<=13):\n",
    "    print(\"Child\")\n",
    "\n",
    "elif(age>13 and age<=19):\n",
    "    print(\"Teenage\")\n",
    "\n",
    "elif(age>=19 and age<=60):     \n",
    "    print(\"Adult\")\n",
    "\n",
    "else:\n",
    "    print(\"Senior\")       "
   ]
  },
  {
   "cell_type": "code",
   "execution_count": 16,
   "id": "11441e35",
   "metadata": {},
   "outputs": [
    {
     "name": "stdout",
     "output_type": "stream",
     "text": [
      "25.0is greater than21.0\n"
     ]
    }
   ],
   "source": [
    "num1= float(input(\"Enter the first number: \"))\n",
    "num2= float(input(\"Enter the second number: \"))\n",
    "\n",
    "if (num1>num2):\n",
    "    print(f\"{num1}is greater than {num2}\")\n",
    "\n",
    "else:\n",
    "    print(f\"{num2}is greater than{num1}\")    \n"
   ]
  }
 ],
 "metadata": {
  "kernelspec": {
   "display_name": "base",
   "language": "python",
   "name": "python3"
  },
  "language_info": {
   "codemirror_mode": {
    "name": "ipython",
    "version": 3
   },
   "file_extension": ".py",
   "mimetype": "text/x-python",
   "name": "python",
   "nbconvert_exporter": "python",
   "pygments_lexer": "ipython3",
   "version": "3.12.7"
  }
 },
 "nbformat": 4,
 "nbformat_minor": 5
}
