{
 "cells": [
  {
   "cell_type": "markdown",
   "id": "c10cdda3",
   "metadata": {},
   "source": [
    "# Def Function"
   ]
  },
  {
   "cell_type": "code",
   "execution_count": 1,
   "id": "231dc230",
   "metadata": {},
   "outputs": [
    {
     "name": "stdout",
     "output_type": "stream",
     "text": [
      "The Addition of two numbers 100 and 200 is 300\n"
     ]
    }
   ],
   "source": [
    "# Function Definition : sum()\n",
    "def sum():\n",
    "    num1 = 100 # Local Variable : Attribute LV  will always be in function\n",
    "    num2 = 200 # Local Variable : Attribute\n",
    "\n",
    "    num3 = num1 + num2\n",
    "    print(f'The Addition of two numbers {num1} and {num2} is {num3}')\n",
    "\n",
    "sum()"
   ]
  },
  {
   "cell_type": "code",
   "execution_count": null,
   "id": "77962d7e",
   "metadata": {},
   "outputs": [],
   "source": [
    "num4 = 1000\n",
    "def sum():\n",
    "    global num4 \n",
    "    num1 = 100 # Local Variable : Attribute LV  will always be in function\n",
    "    num2 = 200 # Local Variable : Attribute\n",
    "\n",
    "    num3 = num1 + num4\n",
    "    print(f'The Addition of two numbers {num1} and {num4} is {num3}')\n",
    "\n",
    "sum()\n",
    "print (num4)\n",
    "\n",
    "'''\n",
    "Local variable cannot be accessed from anywhere and it can be written inside function\n",
    "Global variable can be accessed from anywhere but we need to mention global\n",
    "'''"
   ]
  },
  {
   "cell_type": "code",
   "execution_count": 2,
   "id": "4755e563",
   "metadata": {},
   "outputs": [
    {
     "name": "stdout",
     "output_type": "stream",
     "text": [
      "The Addition of two numbers 100 and 1000 is 1100\n",
      "1000\n"
     ]
    },
    {
     "data": {
      "text/plain": [
       "'\\nLocal variable cannot be accessed from anywhere and it can be written inside function\\nGlobal variable can be accessed from anywhere but we need to mention global\\n'"
      ]
     },
     "execution_count": 2,
     "metadata": {},
     "output_type": "execute_result"
    }
   ],
   "source": [
    "num4 = 1000\n",
    "def sum():\n",
    "    global num4 \n",
    "    num1 = 100 # Local Variable : Attribute LV  will always be in function\n",
    "    num2 = 200 # Local Variable : Attribute\n",
    "\n",
    "    num3 = num1 + num4\n",
    "    print(f'The Addition of two numbers {num1} and {num4} is {num3}')\n",
    "\n",
    "sum()\n",
    "print (num4)\n",
    "\n",
    "'''\n",
    "Local variable cannot be accessed from anywhere and it can be written inside function\n",
    "Global variable can be accessed from anywhere but we need to mention global\n",
    "'''"
   ]
  },
  {
   "cell_type": "code",
   "execution_count": 3,
   "id": "2f5b4f19",
   "metadata": {},
   "outputs": [
    {
     "name": "stdout",
     "output_type": "stream",
     "text": [
      "51.0\n"
     ]
    }
   ],
   "source": [
    "# Define Global variable num1 and num2\n",
    "num1 = float(input('Enter the first number: '))\n",
    "num2 = float(input('Enter the second number: '))\n",
    "\n",
    "# Define sum function with arguments a & b\n",
    "def sum(a,b):\n",
    "    a+b\n",
    "    return (a+b)\n",
    "\n",
    "# Calling Function and returned value must be stored in variable ans\n",
    "ans = sum(num1,num2)\n",
    "print(ans)    \n"
   ]
  },
  {
   "cell_type": "code",
   "execution_count": 4,
   "id": "161108c4",
   "metadata": {},
   "outputs": [
    {
     "name": "stdout",
     "output_type": "stream",
     "text": [
      "The Addition of two numbers 23.0 and 45.0 is 68.0\n"
     ]
    }
   ],
   "source": [
    "num1 = float(input('Enter the first number: '))\n",
    "num2 = float(input('Enter the second number: '))\n",
    "\n",
    "def sum():\n",
    "    num3 = num1 + num2\n",
    "    print(f'The Addition of two numbers {num1} and {num2} is {num3}')\n",
    "sum()    \n"
   ]
  },
  {
   "cell_type": "code",
   "execution_count": 5,
   "id": "0583fe21",
   "metadata": {},
   "outputs": [
    {
     "name": "stdout",
     "output_type": "stream",
     "text": [
      "120\n"
     ]
    }
   ],
   "source": [
    "# Reccursive Function\n",
    "# 5! = 5*4*3*2*1 = 120\n",
    "\n",
    "def factorial(n):\n",
    "    if n==1:\n",
    "        return 1\n",
    "    else:\n",
    "        return n*factorial(n-1)\n",
    "\n",
    "print(factorial(5))"
   ]
  },
  {
   "cell_type": "code",
   "execution_count": 6,
   "id": "dfeba909",
   "metadata": {},
   "outputs": [
    {
     "name": "stdout",
     "output_type": "stream",
     "text": [
      "8\n"
     ]
    }
   ],
   "source": [
    "def fibonacci(n):\n",
    "    if n<=1:\n",
    "        return n \n",
    "    else:\n",
    "        return fibonacci(n-1)+fibonacci(n-2)\n",
    "\n",
    "print(fibonacci(6))"
   ]
  },
  {
   "cell_type": "code",
<<<<<<< HEAD
   "execution_count": 1,
   "id": "ac4f17f2",
   "metadata": {},
   "outputs": [
    {
     "name": "stdout",
     "output_type": "stream",
     "text": [
      "The balance amount is {10000}\n"
     ]
    }
   ],
=======
   "execution_count": null,
   "id": "ac4f17f2",
   "metadata": {},
   "outputs": [],
>>>>>>> b4f0d25ba729aeefe1122413848798d28fc7e369
   "source": [
    "'''\n",
    "   Ask the user to enter 1,2,3\n",
    "   If user enter 1 the balance amount should be called balance amount is 10,000\n",
    "   If user enter 2 the withdraw amount should appear\n",
    "   Withdraw = Balance - Amount\n",
    "   If user enter 3 the Deposit amount should appear\n",
    "   Deposit = Balance + Amount\n",
    "   '''\n",
<<<<<<< HEAD
    "\n",
    "num = float(input('Enter a number: '))\n",
    "Balance = 10000\n",
    "if num == 1:\n",
    "  print('The balance amount is', {Balance})\n",
    "  \n",
    "elif num == 2:\n",
    "  amount = float(input(\"Enter a amount : \"))\n",
    "  if amount<=Balance:\n",
    "    Balance -= amount\n",
    "    print(f'{amount}withdrawn successfully')\n",
    "    print(f\"Remaining balance is {Balance}\")\n",
    "\n",
    "  else:\n",
    "    print(\"Insufficient Balance\")\n",
    "\n",
    "\n",
    "      \n",
    "elif num == 3:\n",
    "  amt = float(input('Enter a amount: '))\n",
    "  Balance += amt\n",
    "  print(f'{amt}deposited successfully')\n",
    "  print(f'Remaining balance is {Balance}')\n",
    "      \n",
    "\n",
    "else:\n",
    "   print('Please enter a valid number 1,2,3')\n",
    "      \n",
    "       "
   ]
  },
  {
   "cell_type": "code",
   "execution_count": 6,
   "id": "130a1697",
   "metadata": {},
   "outputs": [
    {
     "name": "stdout",
     "output_type": "stream",
     "text": [
      "You cannot withdraw\n"
     ]
    }
   ],
   "source": [
    "amount = 10000\n",
    "threshold = 2000\n",
    "\n",
    "def bank():\n",
    "    choice = input(\"Enter the number: \")\n",
    "    if choice == '1':\n",
    "        balance()\n",
    "\n",
    "    elif choice =='2':\n",
    "        withdraw_amount()\n",
    "\n",
    "    elif choice == '3':\n",
    "        credit_amount() \n",
    "\n",
    "def balance():\n",
    "    global amount\n",
    "    print(f\"The balance amount is{amount}\" )      \n",
    "\n",
    "def withdraw_amount():\n",
    "    global amount\n",
    "    global threshold\n",
    "   \n",
    "\n",
    "    withdraw = float(input(\"Enter a amount :\"))\n",
    "\n",
    "    if withdraw > threshold:\n",
    "        print(\"You cannot withdraw\")\n",
    "\n",
    "    else:\n",
    "        print(f\"The new balance is {amount - balance}\")   \n",
    "\n",
    "def credit_amount():\n",
    "    deposit = float(input(\"Enter the amount: \"))\n",
    "    print(deposit + amount)     \n",
    "      \n",
    "bank()    \n",
    "       \n",
    "    "
   ]
  },
  {
   "cell_type": "markdown",
   "id": "1d2c5d99",
   "metadata": {},
   "source": [
    "# Lambda Function\n"
   ]
  },
  {
   "cell_type": "code",
   "execution_count": null,
   "id": "31c30928",
   "metadata": {},
   "outputs": [
    {
     "name": "stdout",
     "output_type": "stream",
     "text": [
      "4\n"
     ]
    }
   ],
   "source": [
    "'''\n",
    "Lambda function is a one line function\n",
    "\n",
    "syntax var = lambda expression:\n",
    "'''\n",
    "\n",
    "squares = lambda x: x**2\n",
    "print(squares(2))"
   ]
  },
  {
   "cell_type": "code",
   "execution_count": 8,
   "id": "ed542fb8",
   "metadata": {},
   "outputs": [
    {
     "name": "stdout",
     "output_type": "stream",
     "text": [
      "6\n"
     ]
    }
   ],
   "source": [
    "add = lambda x,y: x+y \n",
    "print(add(2,4))"
   ]
  },
  {
   "cell_type": "code",
   "execution_count": 9,
   "id": "e7a8e6ed",
   "metadata": {},
   "outputs": [
    {
     "name": "stdout",
     "output_type": "stream",
     "text": [
      "3\n"
     ]
    }
   ],
   "source": [
    "sub = lambda x,y: x-y\n",
    "print(sub(5,2))"
   ]
  },
  {
   "cell_type": "code",
   "execution_count": 1,
   "id": "2924ee7d",
   "metadata": {},
   "outputs": [
    {
     "name": "stdout",
     "output_type": "stream",
     "text": [
      "Enter valid number\n"
     ]
    }
   ],
   "source": [
    "'''\n",
    "1 = add 2 = sub 3\n",
    "'''\n",
    "choice = input(\"Enter a choice\")\n",
    "num1 = float(input(\"Enter the first  number\"))\n",
    "num2 = float(input(\"Enter the second  number\"))\n",
    "\n",
    "if choice == 1:\n",
    "    add = lambda num1,num2: (num1 + num2)\n",
    "    print(add(num1,num2))\n",
    "\n",
    "elif choice == 2:\n",
    "    sub = lambda num1,num2: (num1 - num2)\n",
    "    print(sub(num1,num2))\n",
    "\n",
    "\n",
    "elif choice == 3:\n",
    "    multiply = lambda num1,num2: (num1 * num2)\n",
    "    print(multiply(num1,num2))\n",
    "\n",
    "\n",
    "elif choice == 4:\n",
    "    divide = lambda num1,num2: (num1 / num2)\n",
    "    print(divide(num1,num2))\n",
    "    \n",
    "else:\n",
    "    print(\"Enter valid number\")\n"
   ]
  },
  {
   "cell_type": "code",
   "execution_count": 29,
   "id": "e3d4fde4",
   "metadata": {},
   "outputs": [
    {
     "name": "stdout",
     "output_type": "stream",
     "text": [
      "2020\n"
     ]
    }
   ],
   "source": [
    "num1 = input(\"Enter the first number\")\n",
    "num2 = input(\"Enter the second number\")\n",
    "\n",
    "add = lambda num1,num2: (num1 + num2)\n",
    "sub = lambda num1,num2: (num1 - num2)\n",
    "mul = lambda num1,num2: (num1 * num2)\n",
    "div = lambda num1,num2: (num1 / num2)\n",
    "\n",
    "# Function definition\n",
    "def calculate():\n",
    "    global num1,num2\n",
    "    choice = input(\"Enter your choice: \")\n",
    "\n",
    "    if choice == '1':\n",
    "        ans = add(num1,num2)\n",
    "        print(ans)\n",
    "\n",
    "    elif choice == '2':\n",
    "        ans = sub(num1,num2)\n",
    "        print(ans) \n",
    "\n",
    "    elif choice == '3':\n",
    "        ans = mul(num1,num2)\n",
    "        print(ans) \n",
    "\n",
    "    elif choice == '4':\n",
    "        ans = div(num1,num2)\n",
    "        print(ans) \n",
    "\n",
    "    else:\n",
    "        print(\"Enter a valid choice\")\n",
    "\n",
    "calculate()"
   ]
  },
  {
   "cell_type": "markdown",
   "id": "e50c7582",
   "metadata": {},
   "source": [
    "# Map Function\n"
   ]
  },
  {
   "cell_type": "code",
   "execution_count": null,
   "id": "6d95d7fd",
   "metadata": {},
   "outputs": [
    {
     "name": "stdout",
     "output_type": "stream",
     "text": [
      "[0, 1, 4, 9, 16, 25, 36, 49, 64, 81]\n"
     ]
    }
   ],
   "source": [
    "'''\n",
    "Map function converts data structure of 1 type to other data type\n",
    "'''\n",
    "\n",
    "square = list(map(lambda x: x**2, range(0,10)))\n",
    "print (square)"
   ]
  },
  {
   "cell_type": "code",
   "execution_count": 33,
   "id": "d62a4727",
   "metadata": {},
   "outputs": [
    {
     "data": {
      "text/plain": [
       "(0, 4, 16, 36, 64)"
      ]
     },
     "execution_count": 33,
     "metadata": {},
     "output_type": "execute_result"
    }
   ],
   "source": [
    "squares = tuple(map(lambda x: x**2, range(0,10,2)))\n",
    "squares"
   ]
  },
  {
   "cell_type": "markdown",
   "id": "64a43c79",
   "metadata": {},
   "source": [
    "# Filter Function\n"
   ]
  },
  {
   "cell_type": "code",
   "execution_count": 36,
   "id": "aa092122",
   "metadata": {},
   "outputs": [
    {
     "name": "stdout",
     "output_type": "stream",
     "text": [
      "[2, 4, 6, 8, 10]\n"
     ]
    }
   ],
   "source": [
    "num = [1,2,3,4,5,6,7,8,9,10]\n",
    "even = list(filter(lambda x: x%2==0,num))\n",
    "print(even)"
   ]
  },
  {
   "cell_type": "code",
   "execution_count": 37,
   "id": "959eb7cb",
   "metadata": {},
   "outputs": [
    {
     "name": "stdout",
     "output_type": "stream",
     "text": [
      "[0, 2, 4, 6, 8]\n"
     ]
    }
   ],
   "source": [
    "a = list(filter(lambda x: x%2==0, range(0,10)))\n",
    "print(a)"
   ]
  },
  {
   "cell_type": "code",
   "execution_count": 38,
   "id": "9fc7d666",
   "metadata": {},
   "outputs": [
    {
     "name": "stdout",
     "output_type": "stream",
     "text": [
      "20\n"
     ]
    }
   ],
   "source": [
    "def sum():\n",
    "    sum = 0\n",
    "    for i in range(0,10):\n",
    "        if i % 2==0:\n",
    "            sum = sum + i \n",
    "\n",
    "    print(sum)\n",
    "sum()\n"
   ]
  },
  {
   "cell_type": "code",
   "execution_count": null,
   "id": "54f59c44",
   "metadata": {},
   "outputs": [],
   "source": [
    "'''\n",
    "Summary :  1st we need to define the function by using def function_name():\n",
    "next write the variable and assign values\n",
    "local variable are written inside the function and cannot be accessed outside the function\n",
    "Global variable are declared outside the function and can be accessed anywhere with global keyword\n",
    "at last we need to call the function function_name()\n",
    "\n",
    "Lambda function is a one line function\n",
    "syntax var = lambda expression:\n",
    "Example : \n",
    "squares = lambda x: x**2\n",
    "print(squares(2)) = 4 \n",
    "** is a exponent which gives the square of a given number\n",
    "\n",
    "Map function converts data structure of 1 type to other data type\n",
    "Example : \n",
    "square = list(map(lambda x: x**2, range(0,10)))\n",
    "print (square)           convert to list\n",
    "\n",
    "squares = tuple(map(lambda x: x**2, range(0,10,2)))\n",
    "squares                         converted to tuple\n",
    "\n",
    "Filter function is used to filter the data based on condition\n",
    "\n",
    "\n",
    "'''"
=======
    "     balance = 10000\n",
    "def bank():   \n",
    "  choice = input('Enter the number  ')\n",
    "    if choice==1:\n",
    "       \n",
    "\n",
    "    elif chioce == 2:\n",
    "        print(balance - amount)\n",
    "\n",
    "    elif choice == 3:\n",
    "        print(balance + amount)\n",
    "\n",
    "\n",
    "       "
>>>>>>> b4f0d25ba729aeefe1122413848798d28fc7e369
   ]
  }
 ],
 "metadata": {
  "kernelspec": {
   "display_name": "base",
   "language": "python",
   "name": "python3"
  },
  "language_info": {
   "codemirror_mode": {
    "name": "ipython",
    "version": 3
   },
   "file_extension": ".py",
   "mimetype": "text/x-python",
   "name": "python",
   "nbconvert_exporter": "python",
   "pygments_lexer": "ipython3",
   "version": "3.12.7"
  }
 },
 "nbformat": 4,
 "nbformat_minor": 5
}
